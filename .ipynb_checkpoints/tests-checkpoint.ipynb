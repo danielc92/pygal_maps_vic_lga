{
 "cells": [
  {
   "cell_type": "code",
   "execution_count": 1,
   "metadata": {},
   "outputs": [],
   "source": [
    "from maps import LocalGovernmentAreas\n",
    "from pygal.style import BlueStyle\n",
    "from pygal._compat import u\n",
    "import numpy"
   ]
  },
  {
   "cell_type": "markdown",
   "metadata": {},
   "source": [
    "### LGA keys"
   ]
  },
  {
   "cell_type": "raw",
   "metadata": {},
   "source": [
    "dict_keys(['yarriambiack', 'yarra-ranges', 'yarra', 'wyndham', 'wodonga', 'whittlesea', 'whitehorse', 'west-wimmera', 'wellington', 'warrnambool', 'wangaratta', 'unincorporated-vic', 'towong', 'swan-hill', 'surf-coast', 'strathbogie', 'stonnington', 'southern-grampians', 'south-gippsland', 'queenscliffe', 'pyrenees', 'port-phillip', 'northern-grampians', 'nillumbik', 'murrindindi', 'moyne', 'mount-alexander', 'mornington-peninsula', 'moreland', 'moorabool', 'moonee-valley', 'monash', 'moira', 'mitchell', 'mildura', 'melton', 'melbourne', 'maroondah', 'maribyrnong', 'mansfield', 'manningham', 'macedon-ranges', 'loddon', 'latrobe', 'knox', 'kingston', 'indigo', 'hume', 'horsham', 'hobsons-bay', 'hindmarsh', 'hepburn', 'greater-shepparton', 'greater-geelong', 'greater-dandenong', 'greater-bendigo', 'golden-plains', 'glenelg', 'glen-eira', 'gannawarra', 'frankston', 'east-gippsland', 'darebin', 'corangamite', 'colac-otway', 'central-goldfields', 'casey', 'cardinia', 'campaspe', 'buloke', 'brimbank', 'boroondara', 'benalla', 'bayside', 'baw-baw', 'bass-coast', 'banyule', 'ballarat', 'ararat', 'alpine'])"
   ]
  },
  {
   "cell_type": "code",
   "execution_count": 2,
   "metadata": {},
   "outputs": [],
   "source": [
    "test_values = {}"
   ]
  },
  {
   "cell_type": "code",
   "execution_count": 3,
   "metadata": {},
   "outputs": [],
   "source": [
    "keys = ['yarriambiack', 'yarra-ranges', 'yarra', 'wyndham', 'wodonga', 'whittlesea', 'whitehorse', 'west-wimmera', 'wellington', 'warrnambool', 'wangaratta', 'unincorporated-vic', 'towong', 'swan-hill', 'surf-coast', 'strathbogie', 'stonnington', 'southern-grampians', 'south-gippsland', 'queenscliffe', 'pyrenees', 'port-phillip', 'northern-grampians', 'nillumbik', 'murrindindi', 'moyne', 'mount-alexander', 'mornington-peninsula', 'moreland', 'moorabool', 'moonee-valley', 'monash', 'moira', 'mitchell', 'mildura', 'melton', 'melbourne', 'maroondah', 'maribyrnong', 'mansfield', 'manningham', 'macedon-ranges', 'loddon', 'latrobe', 'knox', 'kingston', 'indigo', 'hume', 'horsham', 'hobsons-bay', 'hindmarsh', 'hepburn', 'greater-shepparton', 'greater-geelong', 'greater-dandenong', 'greater-bendigo', 'golden-plains', 'glenelg', 'glen-eira', 'gannawarra', 'frankston', 'east-gippsland', 'darebin', 'corangamite', 'colac-otway', 'central-goldfields', 'casey', 'cardinia', 'campaspe', 'buloke', 'brimbank', 'boroondara', 'benalla', 'bayside', 'baw-baw', 'bass-coast', 'banyule', 'ballarat', 'ararat', 'alpine']"
   ]
  },
  {
   "cell_type": "code",
   "execution_count": 4,
   "metadata": {},
   "outputs": [],
   "source": [
    "for k in keys:\n",
    "    test_values[k] = numpy.random.randint(10,500)"
   ]
  },
  {
   "cell_type": "code",
   "execution_count": 5,
   "metadata": {},
   "outputs": [
    {
     "data": {
      "text/plain": [
       "{'yarriambiack': 486,\n",
       " 'yarra-ranges': 153,\n",
       " 'yarra': 326,\n",
       " 'wyndham': 82,\n",
       " 'wodonga': 72,\n",
       " 'whittlesea': 43,\n",
       " 'whitehorse': 414,\n",
       " 'west-wimmera': 164,\n",
       " 'wellington': 439,\n",
       " 'warrnambool': 260,\n",
       " 'wangaratta': 71,\n",
       " 'unincorporated-vic': 420,\n",
       " 'towong': 456,\n",
       " 'swan-hill': 290,\n",
       " 'surf-coast': 466,\n",
       " 'strathbogie': 133,\n",
       " 'stonnington': 160,\n",
       " 'southern-grampians': 255,\n",
       " 'south-gippsland': 195,\n",
       " 'queenscliffe': 22,\n",
       " 'pyrenees': 411,\n",
       " 'port-phillip': 498,\n",
       " 'northern-grampians': 188,\n",
       " 'nillumbik': 268,\n",
       " 'murrindindi': 232,\n",
       " 'moyne': 114,\n",
       " 'mount-alexander': 22,\n",
       " 'mornington-peninsula': 125,\n",
       " 'moreland': 443,\n",
       " 'moorabool': 320,\n",
       " 'moonee-valley': 110,\n",
       " 'monash': 242,\n",
       " 'moira': 411,\n",
       " 'mitchell': 203,\n",
       " 'mildura': 448,\n",
       " 'melton': 299,\n",
       " 'melbourne': 246,\n",
       " 'maroondah': 290,\n",
       " 'maribyrnong': 209,\n",
       " 'mansfield': 369,\n",
       " 'manningham': 211,\n",
       " 'macedon-ranges': 344,\n",
       " 'loddon': 50,\n",
       " 'latrobe': 279,\n",
       " 'knox': 345,\n",
       " 'kingston': 340,\n",
       " 'indigo': 119,\n",
       " 'hume': 442,\n",
       " 'horsham': 283,\n",
       " 'hobsons-bay': 179,\n",
       " 'hindmarsh': 428,\n",
       " 'hepburn': 188,\n",
       " 'greater-shepparton': 481,\n",
       " 'greater-geelong': 485,\n",
       " 'greater-dandenong': 195,\n",
       " 'greater-bendigo': 149,\n",
       " 'golden-plains': 455,\n",
       " 'glenelg': 10,\n",
       " 'glen-eira': 87,\n",
       " 'gannawarra': 380,\n",
       " 'frankston': 367,\n",
       " 'east-gippsland': 351,\n",
       " 'darebin': 306,\n",
       " 'corangamite': 18,\n",
       " 'colac-otway': 165,\n",
       " 'central-goldfields': 491,\n",
       " 'casey': 137,\n",
       " 'cardinia': 315,\n",
       " 'campaspe': 157,\n",
       " 'buloke': 241,\n",
       " 'brimbank': 308,\n",
       " 'boroondara': 370,\n",
       " 'benalla': 317,\n",
       " 'bayside': 464,\n",
       " 'baw-baw': 113,\n",
       " 'bass-coast': 131,\n",
       " 'banyule': 134,\n",
       " 'ballarat': 398,\n",
       " 'ararat': 365,\n",
       " 'alpine': 335}"
      ]
     },
     "execution_count": 5,
     "metadata": {},
     "output_type": "execute_result"
    }
   ],
   "source": [
    "test_values"
   ]
  },
  {
   "cell_type": "code",
   "execution_count": 6,
   "metadata": {},
   "outputs": [
    {
     "name": "stdout",
     "output_type": "stream",
     "text": [
      "file://C:/Users/Daniel/AppData/Local/Temp/tmpx5fiddtu.html\n"
     ]
    }
   ],
   "source": [
    "chart = LocalGovernmentAreas(legend_at_bottom = True, style = BlueStyle())\n",
    "chart.title = \"Local Government Areas Chart Test\"\n",
    "chart.add('Region A', test_values)\n",
    "chart.render_in_browser()"
   ]
  }
 ],
 "metadata": {
  "kernelspec": {
   "display_name": "Python 3",
   "language": "python",
   "name": "python3"
  },
  "language_info": {
   "codemirror_mode": {
    "name": "ipython",
    "version": 3
   },
   "file_extension": ".py",
   "mimetype": "text/x-python",
   "name": "python",
   "nbconvert_exporter": "python",
   "pygments_lexer": "ipython3",
   "version": "3.6.5"
  },
  "toc": {
   "base_numbering": 1,
   "nav_menu": {},
   "number_sections": true,
   "sideBar": true,
   "skip_h1_title": false,
   "title_cell": "Table of Contents",
   "title_sidebar": "Contents",
   "toc_cell": false,
   "toc_position": {},
   "toc_section_display": true,
   "toc_window_display": false
  }
 },
 "nbformat": 4,
 "nbformat_minor": 2
}

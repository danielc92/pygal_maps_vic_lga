{
 "cells": [
  {
   "cell_type": "code",
   "execution_count": 1,
   "metadata": {},
   "outputs": [],
   "source": [
    "from maps import LocalGovernmentAreas\n",
    "from pygal.style import BlueStyle\n",
    "from pygal._compat import u\n",
    "import numpy"
   ]
  },
  {
   "cell_type": "code",
   "execution_count": 3,
   "metadata": {},
   "outputs": [
    {
     "name": "stdout",
     "output_type": "stream",
     "text": [
      "file://C:/Users/Daniel/AppData/Local/Temp/tmpx2axqere.html\n"
     ]
    }
   ],
   "source": [
    "chart = LocalGovernmentAreas(legend_at_bottom = True, style = BlueStyle())\n",
    "chart.title = \"Local Government Areas Chart Test\"\n",
    "chart.add('baw-baw', 500)\n",
    "chart.render_in_browser()"
   ]
  },
  {
   "cell_type": "markdown",
   "metadata": {},
   "source": [
    "### LGA keys"
   ]
  },
  {
   "cell_type": "raw",
   "metadata": {},
   "source": [
    "dict_keys(['yarriambiack', 'yarra-ranges', 'yarra', 'wyndham', 'wodonga', 'whittlesea', 'whitehorse', 'west-immera', 'wellington', 'warrnambool', 'wangaratta', 'unincorporated-vic', 'towong', 'swan-hill', 'surf-coast', 'strathbogie', 'stonnington', 'southern-grampians', 'south-gippsland', 'queenscliffe', 'pyrenees', 'port-phillip', 'northern-grampians-(s)', 'nillumbik', 'murrindindi', 'moyne', 'mount-alexander', 'mornington-peninsula', 'moreland', 'moorabool', 'moonee-valley', 'monash', 'moira', 'mitchell', 'mildura', 'melton', 'melbourne', 'maroondah', 'maribyrnong', 'mansfield', 'manningham', 'macedon-ranges', 'loddon', 'latrobe', 'knox', 'kingston', 'indigo', 'hume', 'horsham', 'hobsons-bay', 'hindmarsh', 'hepburn', 'greater-shepparton', 'greater-geelong', 'greater-dandenong', 'greater-bendigo', 'golden-plains', 'glenelg', 'glen-eira', 'gannawarra', 'frankston', 'east-gippsland', 'darebin', 'corangamite', 'colac-otway', 'central-goldfields', 'casey', 'cardinia', 'campaspe', 'buloke', 'brimbank', 'boroondara', 'benalla', 'bayside', 'baw-baw', 'bass-coast', 'banyule', 'ballarat', 'ararat', 'alpine'])"
   ]
  },
  {
   "cell_type": "code",
   "execution_count": null,
   "metadata": {},
   "outputs": [],
   "source": [
    "test_values = {}"
   ]
  },
  {
   "cell_type": "code",
   "execution_count": 15,
   "metadata": {},
   "outputs": [],
   "source": [
    "keys = ['yarriambiack', 'yarra-ranges', 'yarra', 'wyndham', 'wodonga', 'whittlesea', 'whitehorse', 'west-immera', 'wellington', 'warrnambool', 'wangaratta', 'unincorporated-vic', 'towong', 'swan-hill', 'surf-coast', 'strathbogie', 'stonnington', 'southern-grampians', 'south-gippsland', 'queenscliffe', 'pyrenees', 'port-phillip', 'northern-grampians-(s)', 'nillumbik', 'murrindindi', 'moyne', 'mount-alexander', 'mornington-peninsula', 'moreland', 'moorabool', 'moonee-valley', 'monash', 'moira', 'mitchell', 'mildura', 'melton', 'melbourne', 'maroondah', 'maribyrnong', 'mansfield', 'manningham', 'macedon-ranges', 'loddon', 'latrobe', 'knox', 'kingston', 'indigo', 'hume', 'horsham', 'hobsons-bay', 'hindmarsh', 'hepburn', 'greater-shepparton', 'greater-geelong', 'greater-dandenong', 'greater-bendigo', 'golden-plains', 'glenelg', 'glen-eira', 'gannawarra', 'frankston', 'east-gippsland', 'darebin', 'corangamite', 'colac-otway', 'central-goldfields', 'casey', 'cardinia', 'campaspe', 'buloke', 'brimbank', 'boroondara', 'benalla', 'bayside', 'baw-baw', 'bass-coast', 'banyule', 'ballarat', 'ararat', 'alpine']"
   ]
  },
  {
   "cell_type": "code",
   "execution_count": 11,
   "metadata": {},
   "outputs": [],
   "source": [
    "for k in keys):\n",
    "    test_values[k] = numpy.random.randint(2,7)"
   ]
  },
  {
   "cell_type": "code",
   "execution_count": 12,
   "metadata": {},
   "outputs": [
    {
     "data": {
      "text/plain": [
       "{'yarriambiack': 4,\n",
       " 'yarra-ranges': 2,\n",
       " 'yarra': 6,\n",
       " 'wyndham': 5,\n",
       " 'wodonga': 5,\n",
       " 'whittlesea': 6,\n",
       " 'whitehorse': 5,\n",
       " 'west-immera': 3,\n",
       " 'wellington': 2,\n",
       " 'warrnambool': 5,\n",
       " 'wangaratta': 3,\n",
       " 'unincorporated-vic': 5,\n",
       " 'towong': 4,\n",
       " 'swan-hill': 3,\n",
       " 'surf-coast': 3,\n",
       " 'strathbogie': 5,\n",
       " 'stonnington': 5,\n",
       " 'southern-grampians': 3,\n",
       " 'south-gippsland': 5,\n",
       " 'queenscliffe': 6,\n",
       " 'pyrenees': 3,\n",
       " 'port-phillip': 4,\n",
       " 'northern-grampians-(s)': 2,\n",
       " 'nillumbik': 5,\n",
       " 'murrindindi': 3,\n",
       " 'moyne': 6,\n",
       " 'mount-alexander': 2,\n",
       " 'mornington-peninsula': 6,\n",
       " 'moreland': 4,\n",
       " 'moorabool': 6,\n",
       " 'moonee-valley': 6,\n",
       " 'monash': 4,\n",
       " 'moira': 5,\n",
       " 'mitchell': 6,\n",
       " 'mildura': 2,\n",
       " 'melton': 3,\n",
       " 'melbourne': 4,\n",
       " 'maroondah': 3,\n",
       " 'maribyrnong': 2,\n",
       " 'mansfield': 4,\n",
       " 'manningham': 6,\n",
       " 'macedon-ranges': 3,\n",
       " 'loddon': 2,\n",
       " 'latrobe': 6,\n",
       " 'knox': 5,\n",
       " 'kingston': 3,\n",
       " 'indigo': 4,\n",
       " 'hume': 2,\n",
       " 'horsham': 3,\n",
       " 'hobsons-bay': 2,\n",
       " 'hindmarsh': 2,\n",
       " 'hepburn': 4,\n",
       " 'greater-shepparton': 6,\n",
       " 'greater-geelong': 2,\n",
       " 'greater-dandenong': 4,\n",
       " 'greater-bendigo': 6,\n",
       " 'golden-plains': 2,\n",
       " 'glenelg': 6,\n",
       " 'glen-eira': 6,\n",
       " 'gannawarra': 2,\n",
       " 'frankston': 5,\n",
       " 'east-gippsland': 4,\n",
       " 'darebin': 3,\n",
       " 'corangamite': 4,\n",
       " 'colac-otway': 2,\n",
       " 'central-goldfields': 4,\n",
       " 'casey': 6,\n",
       " 'cardinia': 6,\n",
       " 'campaspe': 2,\n",
       " 'buloke': 6,\n",
       " 'brimbank': 5,\n",
       " 'boroondara': 5,\n",
       " 'benalla': 6,\n",
       " 'bayside': 5,\n",
       " 'baw-baw': 5,\n",
       " 'bass-coast': 2,\n",
       " 'banyule': 2,\n",
       " 'ballarat': 5,\n",
       " 'ararat': 3,\n",
       " 'alpine': 3}"
      ]
     },
     "execution_count": 12,
     "metadata": {},
     "output_type": "execute_result"
    }
   ],
   "source": [
    "test_values"
   ]
  },
  {
   "cell_type": "code",
   "execution_count": 14,
   "metadata": {},
   "outputs": [
    {
     "name": "stdout",
     "output_type": "stream",
     "text": [
      "file://C:/Users/Daniel/AppData/Local/Temp/tmpdeolwpxu.html\n"
     ]
    }
   ],
   "source": [
    "chart = LocalGovernmentAreas(legend_at_bottom = True, style = BlueStyle())\n",
    "chart.title = \"Local Government Areas Chart Test\"\n",
    "chart.add('custom region', test_values)\n",
    "chart.render_in_browser()"
   ]
  },
  {
   "cell_type": "code",
   "execution_count": null,
   "metadata": {},
   "outputs": [],
   "source": []
  }
 ],
 "metadata": {
  "kernelspec": {
   "display_name": "Python 3",
   "language": "python",
   "name": "python3"
  },
  "language_info": {
   "codemirror_mode": {
    "name": "ipython",
    "version": 3
   },
   "file_extension": ".py",
   "mimetype": "text/x-python",
   "name": "python",
   "nbconvert_exporter": "python",
   "pygments_lexer": "ipython3",
   "version": "3.6.5"
  },
  "toc": {
   "base_numbering": 1,
   "nav_menu": {},
   "number_sections": true,
   "sideBar": true,
   "skip_h1_title": false,
   "title_cell": "Table of Contents",
   "title_sidebar": "Contents",
   "toc_cell": false,
   "toc_position": {},
   "toc_section_display": true,
   "toc_window_display": false
  }
 },
 "nbformat": 4,
 "nbformat_minor": 2
}

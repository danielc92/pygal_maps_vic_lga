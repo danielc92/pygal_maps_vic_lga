{
 "cells": [
  {
   "cell_type": "code",
   "execution_count": 14,
   "metadata": {},
   "outputs": [],
   "source": [
    "from maps import LocalGovernmentAreas\n",
    "from pygal.style import BlueStyle"
   ]
  },
  {
   "cell_type": "code",
   "execution_count": 15,
   "metadata": {},
   "outputs": [
    {
     "name": "stdout",
     "output_type": "stream",
     "text": [
      "file:///var/folders/vl/m6tbf3n577342zgywv5wpz040000gn/T/tmpxda9sras.html\n"
     ]
    }
   ],
   "source": [
    "chart = LocalGovernmentAreas(legend_at_bottom = True, style = BlueStyle())\n",
    "chart.title = \"Local Government Areas Chart Test\"\n",
    "chart.add('custom region', {'21010_benalla_(rc)':43.5,\n",
    "                           '20740_bass_coast_(s)':54.2})\n",
    "chart.render_in_browser()"
   ]
  },
  {
   "cell_type": "code",
   "execution_count": null,
   "metadata": {},
   "outputs": [],
   "source": []
  }
 ],
 "metadata": {
  "kernelspec": {
   "display_name": "Python 3",
   "language": "python",
   "name": "python3"
  },
  "language_info": {
   "codemirror_mode": {
    "name": "ipython",
    "version": 3
   },
   "file_extension": ".py",
   "mimetype": "text/x-python",
   "name": "python",
   "nbconvert_exporter": "python",
   "pygments_lexer": "ipython3",
   "version": "3.6.5"
  },
  "toc": {
   "base_numbering": 1,
   "nav_menu": {},
   "number_sections": true,
   "sideBar": true,
   "skip_h1_title": false,
   "title_cell": "Table of Contents",
   "title_sidebar": "Contents",
   "toc_cell": false,
   "toc_position": {},
   "toc_section_display": true,
   "toc_window_display": false
  }
 },
 "nbformat": 4,
 "nbformat_minor": 2
}
